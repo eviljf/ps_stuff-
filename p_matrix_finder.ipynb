{
 "cells": [
  {
   "cell_type": "code",
   "execution_count": 56,
   "id": "colonial-wheat",
   "metadata": {},
   "outputs": [],
   "source": [
    "import cmath\n",
    "import math\n",
    "from IPython.display import HTML,display\n",
    "\n",
    "\n",
    "def calculate_pvalue(Vmatrix,Ybus,n):\n",
    "    VofP = Vmatrix[n]\n",
    "    polarVofP= cmath.polar(VofP)\n",
    "    modVofP = polarVofP[0]\n",
    "    phaseVofP = polarVofP[1]\n",
    "    \n",
    "    P=0\n",
    "    \n",
    "    for (index,v) in enumerate(Vmatrix):\n",
    "        polarVother = cmath.polar(v)\n",
    "        modVother = polarVother[0]\n",
    "        phaseVother = polarVother[1]\n",
    "        \n",
    "        \n",
    "        polarY = cmath.polar(Ybus[n][index])\n",
    "        modpolarY = polarY[0]\n",
    "        phasepolarY = polarY[1]\n",
    "        a=modVofP*modVother*modpolarY*math.cos(phasepolarY+phaseVother-phaseVofP)\n",
    "        P+=a\n",
    "    print(\"P is \" + str(P))\n",
    "    return P\n",
    "\n",
    "\n",
    "def calculate_qvalue(Vmatrix,Ybus,n):\n",
    "    VofP = Vmatrix[n]\n",
    "    polarVofP= cmath.polar(VofP)\n",
    "    modVofP = polarVofP[0]\n",
    "    phaseVofP = polarVofP[1]\n",
    "    \n",
    "    Q=0\n",
    "    \n",
    "    for (index,v) in enumerate(Vmatrix):\n",
    "        polarVother = cmath.polar(v)\n",
    "        modVother = polarVother[0]\n",
    "        phaseVother = polarVother[1]\n",
    "        \n",
    "        \n",
    "        polarY = cmath.polar(Ybus[n][index])\n",
    "        modpolarY = polarY[0]\n",
    "        phasepolarY = polarY[1]\n",
    "        a=-modVofP*modVother*modpolarY*math.sin(phasepolarY+phaseVother-phaseVofP)\n",
    "        Q+=a\n",
    "    print(\"Q is \" + str(Q))\n",
    "    return Q\n",
    "\n",
    "\n",
    "\n",
    "\n",
    "\n",
    "\n",
    "\n",
    "\n",
    "\n",
    "\n",
    "\n",
    "    "
   ]
  },
  {
   "cell_type": "code",
   "execution_count": 67,
   "id": "russian-rough",
   "metadata": {},
   "outputs": [],
   "source": [
    "def find_p_and_q_matrices(p_list,q_list,Vmatrix,Ybus):#plist and q list are lists of indices\n",
    "    cq = []\n",
    "    for m in p_list:\n",
    "        cq.append(calculate_pvalue(Vmat,bus0,m-1))\n",
    "    for m in q_list:\n",
    "        cq.append(calculate_qvalue(Vmat,bus0,m-1))\n",
    "    print(\"Calculated quantities are\" + str(cq))\n",
    "    return cq\n",
    "\n",
    "        \n",
    "    \n",
    "def get_mismatch_p_matrix(matA,matB):\n",
    "    if len(matA)!=len(matB):\n",
    "        print(\"Error lengths don't match\")\n",
    "        return\n",
    "    matC=[]\n",
    "    for (index,value) in enumerate(matA):\n",
    "        matC.append(matA[index]-matB[index])\n",
    "    print(\"MAtC is\"+str(matC))\n",
    "    return matC\n",
    "\n",
    "\n",
    "def get_delta_p_by_mod_v_matrix(deltaPmatrix,indices,Vmatrix):\n",
    "    if len(deltaPmatrix)!=len(indices):\n",
    "        print(\"Error lengths don't match\")\n",
    "        return\n",
    "    matC =[]\n",
    "    \n",
    "    for (index,m) in enumerate(indices):\n",
    "        a =deltaPmatrix[index]/abs(Vmatrix[m-1])\n",
    "        matC.append(a)\n",
    "    return matC\n",
    "    \n",
    "    \n",
    "    "
   ]
  },
  {
   "cell_type": "code",
   "execution_count": 62,
   "id": "addressed-bernard",
   "metadata": {},
   "outputs": [],
   "source": [
    "import numpy as np\n",
    "def get_fast_decouple_step(Bmatrix,dp_by_modV):\n",
    "    np_Bmatrix = np.array(Bmatrix)\n",
    "    np_dp_modV = np.array(dp_by_modV)\n",
    "    out = np.matmul(np.linalg.inv(np_Bmatrix),np_dp_modV)\n",
    "    print(out)\n",
    "    return out\n",
    "    "
   ]
  },
  {
   "cell_type": "code",
   "execution_count": 26,
   "id": "naked-expansion",
   "metadata": {},
   "outputs": [],
   "source": [
    "def find_pmatrices(Ybus,Pvalues,Qvalues):\n",
    "    html = \"<font face = \\\"consolas\\\">\"\n",
    "    html+=\"<table>\"\n",
    "    for m in Ybus:\n",
    "        html +=\"<tr>\"\n",
    "        for n in m:\n",
    "            val = cmath.polar(n)\n",
    "            magnitude = val[0]\n",
    "            phase_in_deg = val[1]*180/cmath.pi\n",
    "            html+= \"<td>%s<td>\"%(str(magnitude)+\"∠\"+str(phase_in_deg))\n",
    "        html += \"</tr>\"\n",
    "    html+= \"</table>\"\n",
    "    display(HTML(html))"
   ]
  },
  {
   "cell_type": "code",
   "execution_count": 27,
   "id": "published-medline",
   "metadata": {},
   "outputs": [
    {
     "data": {
      "text/html": [
       "<font face = \"consolas\"><table><tr><td>7.5∠-90.0<td><td>4.0∠90.0<td><td>2.5∠90.0<td><td>0.0∠0.0<td></tr><tr><td>4.0∠90.0<td><td>7.75∠-90.0<td><td>0.0∠0.0<td><td>2.5∠90.0<td></tr><tr><td>2.5∠90.0<td><td>0.0∠0.0<td><td>4.5∠-90.0<td><td>2.0∠90.0<td></tr><tr><td>0.0∠0.0<td><td>2.5∠90.0<td><td>2.0∠90.0<td><td>4.5∠-90.0<td></tr></table>"
      ],
      "text/plain": [
       "<IPython.core.display.HTML object>"
      ]
     },
     "metadata": {},
     "output_type": "display_data"
    }
   ],
   "source": [
    "bus = [[-7.5j ,4j,2.5j,0],[4j,-7.75j,0,2.5j],[2.5j,0,-4.5j,2j],[0,2.5j,2j,-4.5j]]\n",
    "find_pmatrices(bus,0,0)"
   ]
  },
  {
   "cell_type": "code",
   "execution_count": 30,
   "id": "parallel-traffic",
   "metadata": {},
   "outputs": [
    {
     "data": {
      "text/html": [
       "<font face = \"consolas\"><table><tr><td>57.0087712549569∠-74.74488129694222<td><td>15.811388300841896∠108.43494882292202<td><td>41.23105625617661∠104.0362434679265<td></tr><tr><td>15.811388300841896∠108.43494882292202<td><td>68.00735254367721∠-72.89727103094764<td><td>52.20153254455275∠106.69924423399362<td></tr><tr><td>41.23105625617661∠104.0362434679265<td><td>52.20153254455275∠106.69924423399362<td><td>93.40770846134703∠-74.47588900324574<td></tr></table>"
      ],
      "text/plain": [
       "<IPython.core.display.HTML object>"
      ]
     },
     "metadata": {},
     "output_type": "display_data"
    }
   ],
   "source": [
    "V0=1+0j\n",
    "Vmat = [1.02+0j,1+0j,1.03+0j]\n",
    "bus0 = [[15-55j,-5+15j,-10+40j],[-5+15j,20-65j,-15+50j],[-10+40j,-15+50j,25-90j]]\n",
    "find_pmatrices(bus0,0,0)"
   ]
  },
  {
   "cell_type": "code",
   "execution_count": 57,
   "id": "sapphire-domain",
   "metadata": {},
   "outputs": [
    {
     "name": "stdout",
     "output_type": "stream",
     "text": [
      "P is -0.5500000000000007\n",
      "Q is -1.79999999999999\n",
      "P is -0.5500000000000007\n",
      "P is 0.5664999999999978\n",
      "Q is -1.79999999999999\n",
      "Calculated quantities are[-0.5500000000000007, 0.5664999999999978, -1.79999999999999]\n"
     ]
    },
    {
     "data": {
      "text/plain": [
       "[-0.5500000000000007, 0.5664999999999978, -1.79999999999999]"
      ]
     },
     "execution_count": 57,
     "metadata": {},
     "output_type": "execute_result"
    }
   ],
   "source": [
    "calculate_pvalue(Vmat,bus0,1) #(Matrix of assumed Vs,Bus matrix ,and index of P to calc)\n",
    "calculate_qvalue(Vmat,bus0,1)\n",
    "find_p_and_q_matrices([2,3],[2],Vmat,bus0)"
   ]
  },
  {
   "cell_type": "code",
   "execution_count": 65,
   "id": "significant-armor",
   "metadata": {},
   "outputs": [
    {
     "name": "stdout",
     "output_type": "stream",
     "text": [
      "P is -0.5500000000000007\n",
      "P is 0.5664999999999978\n",
      "Calculated quantities are[-0.5500000000000007, 0.5664999999999978]\n",
      "MAtC is[-1.4499999999999993, 0.9335000000000022]\n"
     ]
    },
    {
     "data": {
      "text/plain": [
       "[-1.4499999999999993, 0.9335000000000022]"
      ]
     },
     "execution_count": 65,
     "metadata": {},
     "output_type": "execute_result"
    }
   ],
   "source": [
    "matA = [-2,1.5]\n",
    "matB = find_p_and_q_matrices([2,3],[],Vmat,bus0)\n",
    "get_mismatch_p_matrix(matA,matB)"
   ]
  },
  {
   "cell_type": "code",
   "execution_count": 71,
   "id": "vertical-contribution",
   "metadata": {},
   "outputs": [
    {
     "name": "stdout",
     "output_type": "stream",
     "text": [
      "MAtC is[-1.4499999999999993, 0.9335000000000022]\n",
      "[0.0254282  0.00405666]\n"
     ]
    },
    {
     "data": {
      "text/plain": [
       "array([0.0254282 , 0.00405666])"
      ]
     },
     "execution_count": 71,
     "metadata": {},
     "output_type": "execute_result"
    }
   ],
   "source": [
    "c =  get_delta_p_by_mod_v_matrix(get_mismatch_p_matrix(matA,matB),[2,3],Vmat)\n",
    "B_matrix = [[-65,50],[50,-90]]\n",
    "get_fast_decouple_step(B_matrix,c)\n"
   ]
  },
  {
   "cell_type": "code",
   "execution_count": null,
   "id": "national-visitor",
   "metadata": {},
   "outputs": [],
   "source": [
    "#todo design fast decoupled method "
   ]
  }
 ],
 "metadata": {
  "kernelspec": {
   "display_name": "Python 3",
   "language": "python",
   "name": "python3"
  },
  "language_info": {
   "codemirror_mode": {
    "name": "ipython",
    "version": 3
   },
   "file_extension": ".py",
   "mimetype": "text/x-python",
   "name": "python",
   "nbconvert_exporter": "python",
   "pygments_lexer": "ipython3",
   "version": "3.8.9"
  }
 },
 "nbformat": 4,
 "nbformat_minor": 5
}
